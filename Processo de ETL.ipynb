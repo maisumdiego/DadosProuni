{
 "cells": [
  {
   "cell_type": "markdown",
   "id": "3a06f151",
   "metadata": {},
   "source": [
    "# <font color=#257C53 size=6> Datasets do Programa Universidade para Todos (ProUni)</font>\n",
    "# <font color=#999999 size=5> Processo de ETL para um banco de dados no SQL Server </font>\n",
    "***"
   ]
  },
  {
   "cell_type": "markdown",
   "id": "b965df19",
   "metadata": {},
   "source": [
    "# <font color=#257C53 size=5> 1 CONHECENDO OS DADOS </font>\n",
    "***"
   ]
  },
  {
   "cell_type": "markdown",
   "id": "94975a2d",
   "metadata": {},
   "source": [
    "O conjunto de datasets trabalhado neste relatório é referente as bolsas concedidas e perfil dos beneficiários do <b>Programa Universidade para Todos</b>, obtidos no Portal Brasileiro de Dados Abertos (https://dados.gov.br/dataset/mec-prouni). Ao todo, até data de desenvolvimento deste relatório, foram disponibilizados dezesseis arquivos <i>.csv</i> referentes aos anos de <b>2005 a 2020</b>."
   ]
  },
  {
   "cell_type": "markdown",
   "id": "06175f51",
   "metadata": {},
   "source": [
    "Embora a identificação dos arquivos <i>.csv</i> tenha sido alterado para fins de desenvolvimento de projeto, nenhum dataset sofreu nenhuma interferência externa às etapas deste relatório.\n",
    "***"
   ]
  },
  {
   "cell_type": "markdown",
   "id": "dbf434f5",
   "metadata": {},
   "source": [
    "###  Sobre o programa\n",
    "O Programa Universidade para Todos - Prouni tem como finalidade a concessão de bolsas de estudo integrais e parciais em cursos de graduação e sequenciais de formação específica, em instituições de ensino superior privadas que oferece, em contrapartida, isenção de tributos àquelas instituições que aderem ao Programa.\n",
    "\n",
    "Dirigido aos estudantes egressos do ensino médio da rede pública ou da rede particular na condição de bolsistas integrais, com renda familiar per capita máxima de três salários mínimos, o Prouni conta com um sistema de seleção informatizado e impessoal, que confere transparência e segurança ao processo. Os candidatos são selecionados pelas notas obtidas no Exame Nacional do Ensino Médio - Enem conjugando-se, desse modo, inclusão à qualidade e mérito dos estudantes com melhores desempenhos acadêmicos.\n",
    "***"
   ]
  },
  {
   "cell_type": "markdown",
   "id": "644ff526",
   "metadata": {},
   "source": [
    "# <font color=#257C53 size=5> 2 MODELAGEM DE DADOS </font>\n",
    "***"
   ]
  },
  {
   "cell_type": "markdown",
   "id": "3cc6aaf8",
   "metadata": {},
   "source": [
    "Os dados tratados serão formatados para um banco de dados SQL com a seguinte modelagem.\n",
    "<img src=\"Diagrama geral.png\">"
   ]
  },
  {
   "cell_type": "markdown",
   "id": "762bd21e",
   "metadata": {},
   "source": [
    "# <font color=#257C53 size=5> 3 PROCESSO DE ETL: EXTRAÇÃO </font>\n",
    "***"
   ]
  },
  {
   "cell_type": "markdown",
   "id": "ea9c98eb",
   "metadata": {},
   "source": [
    "## Importação de todas as bibliotecas utilizadas no projeto"
   ]
  },
  {
   "cell_type": "code",
   "execution_count": 2,
   "id": "7c5c8b26",
   "metadata": {},
   "outputs": [],
   "source": [
    "import pandas as pd\n",
    "import numpy as np\n",
    "from glob import glob\n",
    "from unidecode import unidecode\n",
    "from datetime import datetime\n",
    "import pyodbc\n",
    "\n",
    "pd.set_option('mode.chained_assignment', None)"
   ]
  },
  {
   "cell_type": "markdown",
   "id": "487ae6bf",
   "metadata": {},
   "source": [
    "***"
   ]
  },
  {
   "cell_type": "markdown",
   "id": "5f1885e6",
   "metadata": {},
   "source": [
    "## Agrupamento dos arquivos numa única lista\n",
    "Devido às mudanças de <i>encoding</i> no decorrer dos anos, foi necessário fazer uma extração por partes."
   ]
  },
  {
   "cell_type": "code",
   "execution_count": 3,
   "id": "dcfc1cfb",
   "metadata": {},
   "outputs": [],
   "source": [
    "arquivos = sorted(glob('pda-prouni-20*.csv'))"
   ]
  },
  {
   "cell_type": "code",
   "execution_count": 4,
   "id": "47b43e39",
   "metadata": {},
   "outputs": [],
   "source": [
    "dados = []\n",
    "for j in range(12):\n",
    "    t = pd.read_csv(arquivos[j], sep=';', encoding='latin-1')\n",
    "    dados.append(t)"
   ]
  },
  {
   "cell_type": "code",
   "execution_count": 5,
   "id": "c6e90fa1",
   "metadata": {},
   "outputs": [],
   "source": [
    "for j in range(12,15):\n",
    "    t = pd.read_csv(arquivos[j], sep=';', encoding='utf-8')\n",
    "    dados.append(t)"
   ]
  },
  {
   "cell_type": "code",
   "execution_count": 6,
   "id": "88728f8a",
   "metadata": {},
   "outputs": [],
   "source": [
    "dados.append(pd.read_csv(arquivos[15], sep=';', encoding='latin-1'))"
   ]
  },
  {
   "cell_type": "code",
   "execution_count": 7,
   "id": "ee10b941",
   "metadata": {},
   "outputs": [
    {
     "data": {
      "text/html": [
       "<div>\n",
       "<style scoped>\n",
       "    .dataframe tbody tr th:only-of-type {\n",
       "        vertical-align: middle;\n",
       "    }\n",
       "\n",
       "    .dataframe tbody tr th {\n",
       "        vertical-align: top;\n",
       "    }\n",
       "\n",
       "    .dataframe thead th {\n",
       "        text-align: right;\n",
       "    }\n",
       "</style>\n",
       "<table border=\"1\" class=\"dataframe\">\n",
       "  <thead>\n",
       "    <tr style=\"text-align: right;\">\n",
       "      <th></th>\n",
       "      <th>ANO_CONCESSAO_BOLSA</th>\n",
       "      <th>CODIGO_EMEC_IES_BOLSA</th>\n",
       "      <th>NOME_IES_BOLSA</th>\n",
       "      <th>TIPO_BOLSA</th>\n",
       "      <th>MODALIDADE_ENSINO_BOLSA</th>\n",
       "      <th>NOME_CURSO_BOLSA</th>\n",
       "      <th>NOME_TURNO_CURSO_BOLSA</th>\n",
       "      <th>CPF_BENEFICIARIO_BOLSA</th>\n",
       "      <th>SEXO_BENEFICIARIO_BOLSA</th>\n",
       "      <th>RACA_BENEFICIARIO_BOLSA</th>\n",
       "      <th>DT_NASCIMENTO_BENEFICIARIO</th>\n",
       "      <th>BENEFICIARIO_DEFICIENTE_FISICO</th>\n",
       "      <th>REGIAO_BENEFICIARIO_BOLSA</th>\n",
       "      <th>SIGLA_UF_BENEFICIARIO_BOLSA</th>\n",
       "      <th>MUNICIPIO_BENEFICIARIO_BOLSA</th>\n",
       "    </tr>\n",
       "  </thead>\n",
       "  <tbody>\n",
       "    <tr>\n",
       "      <th>0</th>\n",
       "      <td>2005</td>\n",
       "      <td>423</td>\n",
       "      <td>UNIVERSIDADE REGIONAL INTEGRADA DO ALTO URUGUA...</td>\n",
       "      <td>BOLSA PARCIAL 50%</td>\n",
       "      <td>PRESENCIAL</td>\n",
       "      <td>Enfermagem</td>\n",
       "      <td>Integral</td>\n",
       "      <td>***264740**</td>\n",
       "      <td>Feminino</td>\n",
       "      <td>Branca</td>\n",
       "      <td>17-02-1987</td>\n",
       "      <td>NÃO</td>\n",
       "      <td>SUL</td>\n",
       "      <td>RS</td>\n",
       "      <td>SANTO ÂNGELO</td>\n",
       "    </tr>\n",
       "    <tr>\n",
       "      <th>1</th>\n",
       "      <td>2005</td>\n",
       "      <td>423</td>\n",
       "      <td>UNIVERSIDADE REGIONAL INTEGRADA DO ALTO URUGUA...</td>\n",
       "      <td>BOLSA PARCIAL 50%</td>\n",
       "      <td>PRESENCIAL</td>\n",
       "      <td>Serviço Social</td>\n",
       "      <td>Noturno</td>\n",
       "      <td>***976940**</td>\n",
       "      <td>Feminino</td>\n",
       "      <td>Parda</td>\n",
       "      <td>14-06-1986</td>\n",
       "      <td>NÃO</td>\n",
       "      <td>SUL</td>\n",
       "      <td>RS</td>\n",
       "      <td>FREDERICO WESTPHALEN</td>\n",
       "    </tr>\n",
       "    <tr>\n",
       "      <th>2</th>\n",
       "      <td>2005</td>\n",
       "      <td>423</td>\n",
       "      <td>UNIVERSIDADE REGIONAL INTEGRADA DO ALTO URUGUA...</td>\n",
       "      <td>BOLSA PARCIAL 50%</td>\n",
       "      <td>PRESENCIAL</td>\n",
       "      <td>Serviço Social</td>\n",
       "      <td>Noturno</td>\n",
       "      <td>***045340**</td>\n",
       "      <td>Feminino</td>\n",
       "      <td>Parda</td>\n",
       "      <td>06-03-1984</td>\n",
       "      <td>NÃO</td>\n",
       "      <td>SUL</td>\n",
       "      <td>RS</td>\n",
       "      <td>FREDERICO WESTPHALEN</td>\n",
       "    </tr>\n",
       "  </tbody>\n",
       "</table>\n",
       "</div>"
      ],
      "text/plain": [
       "   ANO_CONCESSAO_BOLSA  CODIGO_EMEC_IES_BOLSA  \\\n",
       "0                 2005                    423   \n",
       "1                 2005                    423   \n",
       "2                 2005                    423   \n",
       "\n",
       "                                      NOME_IES_BOLSA         TIPO_BOLSA  \\\n",
       "0  UNIVERSIDADE REGIONAL INTEGRADA DO ALTO URUGUA...  BOLSA PARCIAL 50%   \n",
       "1  UNIVERSIDADE REGIONAL INTEGRADA DO ALTO URUGUA...  BOLSA PARCIAL 50%   \n",
       "2  UNIVERSIDADE REGIONAL INTEGRADA DO ALTO URUGUA...  BOLSA PARCIAL 50%   \n",
       "\n",
       "  MODALIDADE_ENSINO_BOLSA NOME_CURSO_BOLSA NOME_TURNO_CURSO_BOLSA  \\\n",
       "0              PRESENCIAL       Enfermagem               Integral   \n",
       "1              PRESENCIAL   Serviço Social                Noturno   \n",
       "2              PRESENCIAL   Serviço Social                Noturno   \n",
       "\n",
       "  CPF_BENEFICIARIO_BOLSA SEXO_BENEFICIARIO_BOLSA RACA_BENEFICIARIO_BOLSA  \\\n",
       "0            ***264740**                Feminino                  Branca   \n",
       "1            ***976940**                Feminino                   Parda   \n",
       "2            ***045340**                Feminino                   Parda   \n",
       "\n",
       "  DT_NASCIMENTO_BENEFICIARIO BENEFICIARIO_DEFICIENTE_FISICO  \\\n",
       "0                 17-02-1987                            NÃO   \n",
       "1                 14-06-1986                            NÃO   \n",
       "2                 06-03-1984                            NÃO   \n",
       "\n",
       "  REGIAO_BENEFICIARIO_BOLSA SIGLA_UF_BENEFICIARIO_BOLSA  \\\n",
       "0                       SUL                          RS   \n",
       "1                       SUL                          RS   \n",
       "2                       SUL                          RS   \n",
       "\n",
       "  MUNICIPIO_BENEFICIARIO_BOLSA  \n",
       "0                 SANTO ÂNGELO  \n",
       "1         FREDERICO WESTPHALEN  \n",
       "2         FREDERICO WESTPHALEN  "
      ]
     },
     "execution_count": 7,
     "metadata": {},
     "output_type": "execute_result"
    }
   ],
   "source": [
    "dados[0].head(3)"
   ]
  },
  {
   "cell_type": "markdown",
   "id": "6afd0ab5",
   "metadata": {},
   "source": [
    "***"
   ]
  },
  {
   "cell_type": "markdown",
   "id": "d4ea2edb",
   "metadata": {},
   "source": [
    "# <font color=#257C53 size=5> 4 PROCESSO DE ETL: TRANSFORMAÇÃO </font>\n",
    "***"
   ]
  },
  {
   "cell_type": "markdown",
   "id": "abbf6bf3",
   "metadata": {},
   "source": [
    "## Construção da Tabela Raça"
   ]
  },
  {
   "cell_type": "markdown",
   "id": "d2d4416d",
   "metadata": {},
   "source": [
    "|Colunas|Tipo|\n",
    "|---|---|\n",
    "|COD_RACA|INT|\n",
    "|DESC_RACA|NVARCHAR|"
   ]
  },
  {
   "cell_type": "code",
   "execution_count": 8,
   "id": "df751029",
   "metadata": {},
   "outputs": [],
   "source": [
    "raca = []\n",
    "for i in range(len(dados)-1):\n",
    "    t = dados[i].RACA_BENEFICIARIO_BOLSA\n",
    "    raca.extend(t)"
   ]
  },
  {
   "cell_type": "code",
   "execution_count": 9,
   "id": "fd475177",
   "metadata": {},
   "outputs": [],
   "source": [
    "racas = np.unique(raca)"
   ]
  },
  {
   "cell_type": "code",
   "execution_count": 10,
   "id": "cde59ac0",
   "metadata": {},
   "outputs": [
    {
     "data": {
      "text/html": [
       "<div>\n",
       "<style scoped>\n",
       "    .dataframe tbody tr th:only-of-type {\n",
       "        vertical-align: middle;\n",
       "    }\n",
       "\n",
       "    .dataframe tbody tr th {\n",
       "        vertical-align: top;\n",
       "    }\n",
       "\n",
       "    .dataframe thead th {\n",
       "        text-align: right;\n",
       "    }\n",
       "</style>\n",
       "<table border=\"1\" class=\"dataframe\">\n",
       "  <thead>\n",
       "    <tr style=\"text-align: right;\">\n",
       "      <th></th>\n",
       "      <th>DESC_RACA</th>\n",
       "    </tr>\n",
       "    <tr>\n",
       "      <th>COD_RACA</th>\n",
       "      <th></th>\n",
       "    </tr>\n",
       "  </thead>\n",
       "  <tbody>\n",
       "    <tr>\n",
       "      <th>0</th>\n",
       "      <td>Amarela</td>\n",
       "    </tr>\n",
       "    <tr>\n",
       "      <th>1</th>\n",
       "      <td>Branca</td>\n",
       "    </tr>\n",
       "    <tr>\n",
       "      <th>2</th>\n",
       "      <td>Indígena</td>\n",
       "    </tr>\n",
       "    <tr>\n",
       "      <th>3</th>\n",
       "      <td>Não Informada</td>\n",
       "    </tr>\n",
       "    <tr>\n",
       "      <th>4</th>\n",
       "      <td>Parda</td>\n",
       "    </tr>\n",
       "    <tr>\n",
       "      <th>5</th>\n",
       "      <td>Preta</td>\n",
       "    </tr>\n",
       "  </tbody>\n",
       "</table>\n",
       "</div>"
      ],
      "text/plain": [
       "              DESC_RACA\n",
       "COD_RACA               \n",
       "0               Amarela\n",
       "1                Branca\n",
       "2              Indígena\n",
       "3         Não Informada\n",
       "4                 Parda\n",
       "5                 Preta"
      ]
     },
     "execution_count": 10,
     "metadata": {},
     "output_type": "execute_result"
    }
   ],
   "source": [
    "TAB_RACA = pd.DataFrame(data=racas[:6], columns=['DESC_RACA'])\n",
    "TAB_RACA.index.names = ['COD_RACA']\n",
    "TAB_RACA"
   ]
  },
  {
   "cell_type": "markdown",
   "id": "fa603ef7",
   "metadata": {},
   "source": [
    "***"
   ]
  },
  {
   "cell_type": "markdown",
   "id": "0db60b5d",
   "metadata": {},
   "source": [
    "## Construção da Tabela Local"
   ]
  },
  {
   "cell_type": "markdown",
   "id": "b197dd6c",
   "metadata": {},
   "source": [
    "|Colunas|Tipo|\n",
    "|---|---|\n",
    "|COD_MUNICIPIO|INT|\n",
    "|REGIAO|NVARCHAR|\n",
    "|SIGLA_UF|NVARCHAR|\n",
    "|MUNICIPIO|NVARCHAR|"
   ]
  },
  {
   "cell_type": "code",
   "execution_count": 11,
   "id": "faa7c52c",
   "metadata": {},
   "outputs": [],
   "source": [
    "TAB_LOCAL = pd.concat(dados[i][['REGIAO_BENEFICIARIO_BOLSA', \n",
    "                    'SIGLA_UF_BENEFICIARIO_BOLSA', \n",
    "                    'MUNICIPIO_BENEFICIARIO_BOLSA']].drop_duplicates(\n",
    "    keep='first',subset='MUNICIPIO_BENEFICIARIO_BOLSA') for i in range(len(dados)-1))"
   ]
  },
  {
   "cell_type": "code",
   "execution_count": 12,
   "id": "95cbd4b4",
   "metadata": {},
   "outputs": [],
   "source": [
    "TAB_LOCAL.rename(columns= {'REGIAO_BENEFICIARIO_BOLSA':'REGIAO',\n",
    "                          'SIGLA_UF_BENEFICIARIO_BOLSA':'SIGLA_UF',\n",
    "                          'MUNICIPIO_BENEFICIARIO_BOLSA':'DESC_MUNICIPIO'}, inplace=True)"
   ]
  },
  {
   "cell_type": "code",
   "execution_count": 13,
   "id": "5df58275",
   "metadata": {},
   "outputs": [],
   "source": [
    "TAB_LOCAL = pd.concat([TAB_LOCAL, dados[15][['REGIAO_BENEFICIARIO', \n",
    "                                             'UF_BENEFICIARIO', \n",
    "                                             'MUNICIPIO_BENEFICIARIO']].drop_duplicates(keep='first', \n",
    "                                                                                        subset='MUNICIPIO_BENEFICIARIO').rename(\n",
    "    columns={'REGIAO_BENEFICIARIO':'REGIAO', 'UF_BENEFICIARIO':'SIGLA_UF', 'MUNICIPIO_BENEFICIARIO':'DESC_MUNICIPIO'})])"
   ]
  },
  {
   "cell_type": "code",
   "execution_count": 14,
   "id": "2c1a3afc",
   "metadata": {},
   "outputs": [],
   "source": [
    "TAB_LOCAL.DESC_MUNICIPIO = TAB_LOCAL.DESC_MUNICIPIO.astype('str')\n",
    "TAB_LOCAL.REGIAO = TAB_LOCAL.REGIAO.str.title()\n",
    "TAB_LOCAL.DESC_MUNICIPIO = TAB_LOCAL.DESC_MUNICIPIO.str.title()"
   ]
  },
  {
   "cell_type": "code",
   "execution_count": 15,
   "id": "f535c841",
   "metadata": {},
   "outputs": [],
   "source": [
    "mun_unidecode = []\n",
    "for i in range(len(TAB_LOCAL)):\n",
    "    t = unidecode(TAB_LOCAL.DESC_MUNICIPIO.iloc[i])\n",
    "    mun_unidecode.append(t)"
   ]
  },
  {
   "cell_type": "code",
   "execution_count": 16,
   "id": "384844e8",
   "metadata": {},
   "outputs": [],
   "source": [
    "TAB_LOCAL.DESC_MUNICIPIO = mun_unidecode"
   ]
  },
  {
   "cell_type": "code",
   "execution_count": 17,
   "id": "953fe192",
   "metadata": {},
   "outputs": [],
   "source": [
    "TAB_LOCAL.drop_duplicates(subset='DESC_MUNICIPIO',inplace=True, keep='first')\n",
    "TAB_LOCAL.DESC_MUNICIPIO.replace('Nan','', inplace=True)\n",
    "TAB_LOCAL.dropna(how='any', inplace=True)\n",
    "TAB_LOCAL.reset_index(drop=True, inplace=True)"
   ]
  },
  {
   "cell_type": "code",
   "execution_count": 18,
   "id": "3828769f",
   "metadata": {},
   "outputs": [],
   "source": [
    "#TAB_LOCAL = TAB_LOCAL.append({'DESC_MUNICIPIO':'Não Informado', 'SIGLA_UF':'Não Informado', 'REGIAO':'Não Informado'}, \n",
    "                             #ignore_index=True)"
   ]
  },
  {
   "cell_type": "code",
   "execution_count": 19,
   "id": "f39b523d",
   "metadata": {
    "scrolled": false
   },
   "outputs": [
    {
     "data": {
      "text/html": [
       "<div>\n",
       "<style scoped>\n",
       "    .dataframe tbody tr th:only-of-type {\n",
       "        vertical-align: middle;\n",
       "    }\n",
       "\n",
       "    .dataframe tbody tr th {\n",
       "        vertical-align: top;\n",
       "    }\n",
       "\n",
       "    .dataframe thead th {\n",
       "        text-align: right;\n",
       "    }\n",
       "</style>\n",
       "<table border=\"1\" class=\"dataframe\">\n",
       "  <thead>\n",
       "    <tr style=\"text-align: right;\">\n",
       "      <th></th>\n",
       "      <th>REGIAO</th>\n",
       "      <th>SIGLA_UF</th>\n",
       "      <th>DESC_MUNICIPIO</th>\n",
       "    </tr>\n",
       "    <tr>\n",
       "      <th>COD_MUNICIPIO</th>\n",
       "      <th></th>\n",
       "      <th></th>\n",
       "      <th></th>\n",
       "    </tr>\n",
       "  </thead>\n",
       "  <tbody>\n",
       "    <tr>\n",
       "      <th>0</th>\n",
       "      <td>Sul</td>\n",
       "      <td>RS</td>\n",
       "      <td>Santo Angelo</td>\n",
       "    </tr>\n",
       "    <tr>\n",
       "      <th>1</th>\n",
       "      <td>Sul</td>\n",
       "      <td>RS</td>\n",
       "      <td>Frederico Westphalen</td>\n",
       "    </tr>\n",
       "    <tr>\n",
       "      <th>2</th>\n",
       "      <td>Sul</td>\n",
       "      <td>PR</td>\n",
       "      <td>Sao Jose Dos Pinhais</td>\n",
       "    </tr>\n",
       "  </tbody>\n",
       "</table>\n",
       "</div>"
      ],
      "text/plain": [
       "              REGIAO SIGLA_UF        DESC_MUNICIPIO\n",
       "COD_MUNICIPIO                                      \n",
       "0                Sul       RS          Santo Angelo\n",
       "1                Sul       RS  Frederico Westphalen\n",
       "2                Sul       PR  Sao Jose Dos Pinhais"
      ]
     },
     "execution_count": 19,
     "metadata": {},
     "output_type": "execute_result"
    }
   ],
   "source": [
    "TAB_LOCAL.index.names = ['COD_MUNICIPIO']\n",
    "TAB_LOCAL.head(3)"
   ]
  },
  {
   "cell_type": "markdown",
   "id": "36a92cc6",
   "metadata": {},
   "source": [
    "<font size=2> Obs.: municípios sem acentuação </font>\n"
   ]
  },
  {
   "cell_type": "markdown",
   "id": "faa4ee14",
   "metadata": {},
   "source": [
    "***"
   ]
  },
  {
   "cell_type": "markdown",
   "id": "0f25f465",
   "metadata": {},
   "source": [
    "## Construção da Tabela IES"
   ]
  },
  {
   "cell_type": "markdown",
   "id": "88909ac3",
   "metadata": {},
   "source": [
    "|Colunas|Tipo|\n",
    "|---|---|\n",
    "|COD_EMEC_IES_BOLSA|INT|\n",
    "|NOME_IES_BOLSA|NVARCHAR|"
   ]
  },
  {
   "cell_type": "code",
   "execution_count": 20,
   "id": "8ce6f282",
   "metadata": {},
   "outputs": [],
   "source": [
    "TAB_IES = pd.concat((dados[i][['CODIGO_EMEC_IES_BOLSA','NOME_IES_BOLSA']]).drop_duplicates(\n",
    "    keep='first' ,subset='CODIGO_EMEC_IES_BOLSA') for i in range(len(dados)))"
   ]
  },
  {
   "cell_type": "code",
   "execution_count": 21,
   "id": "11fa5cd8",
   "metadata": {},
   "outputs": [],
   "source": [
    "TAB_IES.NOME_IES_BOLSA = TAB_IES.NOME_IES_BOLSA.str.title()"
   ]
  },
  {
   "cell_type": "code",
   "execution_count": 22,
   "id": "8511b200",
   "metadata": {},
   "outputs": [],
   "source": [
    "TAB_IES.drop_duplicates(keep='first' ,subset='CODIGO_EMEC_IES_BOLSA', inplace=True)\n",
    "TAB_IES.dropna(how='all', inplace=True)\n",
    "TAB_IES.CODIGO_EMEC_IES_BOLSA = pd.to_numeric(TAB_IES.CODIGO_EMEC_IES_BOLSA, downcast='integer')\n",
    "TAB_IES.NOME_IES_BOLSA.fillna('Não Informado', inplace=True)"
   ]
  },
  {
   "cell_type": "code",
   "execution_count": 23,
   "id": "ef7702d7",
   "metadata": {},
   "outputs": [],
   "source": [
    "TAB_IES.set_index('CODIGO_EMEC_IES_BOLSA', inplace=True)"
   ]
  },
  {
   "cell_type": "code",
   "execution_count": 24,
   "id": "bbe4977d",
   "metadata": {},
   "outputs": [],
   "source": [
    "TAB_IES.sort_index(inplace=True)"
   ]
  },
  {
   "cell_type": "code",
   "execution_count": 25,
   "id": "51a91b03",
   "metadata": {},
   "outputs": [
    {
     "data": {
      "text/html": [
       "<div>\n",
       "<style scoped>\n",
       "    .dataframe tbody tr th:only-of-type {\n",
       "        vertical-align: middle;\n",
       "    }\n",
       "\n",
       "    .dataframe tbody tr th {\n",
       "        vertical-align: top;\n",
       "    }\n",
       "\n",
       "    .dataframe thead th {\n",
       "        text-align: right;\n",
       "    }\n",
       "</style>\n",
       "<table border=\"1\" class=\"dataframe\">\n",
       "  <thead>\n",
       "    <tr style=\"text-align: right;\">\n",
       "      <th></th>\n",
       "      <th>NOME_IES_BOLSA</th>\n",
       "    </tr>\n",
       "    <tr>\n",
       "      <th>COD_EMEC_IES_BOLSA</th>\n",
       "      <th></th>\n",
       "    </tr>\n",
       "  </thead>\n",
       "  <tbody>\n",
       "    <tr>\n",
       "      <th>10</th>\n",
       "      <td>Pontifícia Universidade Católica Do Paraná</td>\n",
       "    </tr>\n",
       "    <tr>\n",
       "      <th>11</th>\n",
       "      <td>Universidade Católica De Pernambuco</td>\n",
       "    </tr>\n",
       "    <tr>\n",
       "      <th>13</th>\n",
       "      <td>Universidade De Caxias Do Sul</td>\n",
       "    </tr>\n",
       "  </tbody>\n",
       "</table>\n",
       "</div>"
      ],
      "text/plain": [
       "                                                NOME_IES_BOLSA\n",
       "COD_EMEC_IES_BOLSA                                            \n",
       "10                  Pontifícia Universidade Católica Do Paraná\n",
       "11                         Universidade Católica De Pernambuco\n",
       "13                               Universidade De Caxias Do Sul"
      ]
     },
     "execution_count": 25,
     "metadata": {},
     "output_type": "execute_result"
    }
   ],
   "source": [
    "TAB_IES.index.names = ['COD_EMEC_IES_BOLSA']\n",
    "TAB_IES.head(3)"
   ]
  },
  {
   "cell_type": "markdown",
   "id": "180bbbe8",
   "metadata": {},
   "source": [
    "***"
   ]
  },
  {
   "cell_type": "markdown",
   "id": "fe1ff100",
   "metadata": {},
   "source": [
    "## Construção da Tabela Registro"
   ]
  },
  {
   "cell_type": "markdown",
   "id": "cd5d1f6f",
   "metadata": {},
   "source": [
    "|Colunas|Tipo|\n",
    "|---|---|\n",
    "|COD_ID|INT IDENTITY|\n",
    "|ANO_CONCESSAO_BOLSA|INT|\n",
    "|COD_RACA|INT|\n",
    "|COD_MUNICIPIO|INT|\n",
    "|COD_EMEC_IES_BOLSA|INT|\n",
    "|CPF_BENEFICIARIO_BOLSA|NVARCHAR|\n",
    "|SEXO_BENEFICIARIO_BOLSA|NVARCHAR|\n",
    "|NOME_CURSO_BOLSA|NVARCHAR|\n",
    "|DT_NASCIMENTO_BENEFICIARIO|DATE|\n",
    "|BENEFICIARIO_DEFICIENTE_FISICO|INT|\n",
    "|TIPO_BOLSA|NVARCHAR|\n",
    "|MODALIDADE_ENSINO_BOLSA|NVARCHAR|"
   ]
  },
  {
   "cell_type": "code",
   "execution_count": 26,
   "id": "7f2545be",
   "metadata": {},
   "outputs": [],
   "source": [
    "for j in range(len(dados)-1):\n",
    "    dados[j].MUNICIPIO_BENEFICIARIO_BOLSA = dados[j].MUNICIPIO_BENEFICIARIO_BOLSA.astype(str)"
   ]
  },
  {
   "cell_type": "code",
   "execution_count": 27,
   "id": "4d03e7a0",
   "metadata": {},
   "outputs": [],
   "source": [
    "dados[14].dropna(inplace=True)"
   ]
  },
  {
   "cell_type": "code",
   "execution_count": 28,
   "id": "926682f3",
   "metadata": {},
   "outputs": [],
   "source": [
    "def formatacao_tabela(i):\n",
    "    \n",
    "    #CHAMANDO TABELA\n",
    "    TAB_REG = dados[i][['ANO_CONCESSAO_BOLSA', 'CODIGO_EMEC_IES_BOLSA', 'CPF_BENEFICIARIO_BOLSA', 'TIPO_BOLSA',\n",
    "                        'SEXO_BENEFICIARIO_BOLSA','BENEFICIARIO_DEFICIENTE_FISICO', 'DT_NASCIMENTO_BENEFICIARIO',\n",
    "                       'MODALIDADE_ENSINO_BOLSA', 'NOME_CURSO_BOLSA']]\n",
    "\n",
    "    # GERANDO MAPAS IDENTIFICADORES\n",
    "    mapa_raca = {'Amarela':0, 'Branca':1, 'Indígena':2, 'Não Informada':3, 'Parda':4, 'Preta':5}\n",
    "    mapa_sexo = {'Feminino':'F', 'Masculino': 'M', 'F':'F', 'M':'M'}\n",
    "    mapa_tipo =  {'BOLSA COMPLEMENTAR 25%':'25%', 'BOLSA INTEGRAL':'100%', 'BOLSA PARCIAL 50%':'50%',\n",
    "           'INTEGRAL':'100%', 'PARCIAL':'50%'}\n",
    "    mapa_pcd = {'N':0, 'NÃO':0, 'S':1, 'SIM':1}\n",
    "    mapa_modalidade = {'EAD':'EaD', 'EDUCAÇÃO A DISTÂNCIA':'EaD', 'PRESENCIAL':'Presencial', 'Presencial':'Presencial'}\n",
    "\n",
    "    mapa_local = TAB_LOCAL.DESC_MUNICIPIO.to_dict()\n",
    "    mapa_local = {v: k for k, v in mapa_local.items()}\n",
    "\n",
    "    #FORMATANDO TABELA MUNICIPIO\n",
    "      \n",
    "    mun_unidecode = []\n",
    "    for j in range(len(dados[i])):\n",
    "        t = unidecode(dados[i].MUNICIPIO_BENEFICIARIO_BOLSA.iloc[j])\n",
    "        mun_unidecode.append(t.title())\n",
    "        \n",
    "    TAB_REG['COD_MUNICIPIO'] = mun_unidecode\n",
    "    TAB_REG['COD_MUNICIPIO'] = TAB_REG['COD_MUNICIPIO'].map(mapa_local)\n",
    "    #TAB_REG.fillna({'COD_MUNICIPIO':5360}, inplace=True)\n",
    "\n",
    "    # ORGANIZANDO COLUNAS DA TABELA\n",
    "    TAB_REG['COD_RACA'] = dados[i]['RACA_BENEFICIARIO_BOLSA'].map(mapa_raca, \n",
    "                                                                  na_action='ignore').convert_dtypes(convert_integer=True)\n",
    "    TAB_REG['SEXO_BENEFICIARIO_BOLSA'] = dados[i].SEXO_BENEFICIARIO_BOLSA.map(mapa_sexo, na_action='ignore')\n",
    "    TAB_REG['CPF_BENEFICIARIO_BOLSA'] = dados[i].CPF_BENEFICIARIO_BOLSA.str.strip('*')\n",
    "    TAB_REG['TIPO_BOLSA'] = TAB_REG['TIPO_BOLSA'].map(mapa_tipo, na_action='ignore')\n",
    "    TAB_REG['BENEFICIARIO_DEFICIENTE_FISICO']= TAB_REG.BENEFICIARIO_DEFICIENTE_FISICO.map(mapa_pcd, na_action='ignore')\n",
    "    TAB_REG['MODALIDADE_ENSINO_BOLSA']= TAB_REG.MODALIDADE_ENSINO_BOLSA.map(mapa_modalidade, na_action='ignore')\n",
    "    TAB_REG['NOME_CURSO_BOLSA'] = TAB_REG.NOME_CURSO_BOLSA.str.title()\n",
    "    \n",
    "    # REDEFININDO OS TIPOS DAS COLUNAS\n",
    "    TAB_REG['ANO_CONCESSAO_BOLSA'] = TAB_REG['ANO_CONCESSAO_BOLSA'].astype('int64')\n",
    "    TAB_REG['CODIGO_EMEC_IES_BOLSA'] = TAB_REG['CODIGO_EMEC_IES_BOLSA'].astype('int64')\n",
    "    #TAB_REG['COD_MUNICIPIO'] = TAB_REG['COD_MUNICIPIO'].astype('int64')\n",
    "    TAB_REG['CPF_BENEFICIARIO_BOLSA'] = TAB_REG['CPF_BENEFICIARIO_BOLSA'].astype(str)\n",
    "    TAB_REG['SEXO_BENEFICIARIO_BOLSA'] = TAB_REG['SEXO_BENEFICIARIO_BOLSA'].astype(str)\n",
    "    TAB_REG['NOME_CURSO_BOLSA'] = TAB_REG['NOME_CURSO_BOLSA'].astype(str)\n",
    "    TAB_REG['TIPO_BOLSA'] = TAB_REG['TIPO_BOLSA'].astype(str)\n",
    "    TAB_REG['MODALIDADE_ENSINO_BOLSA'] = TAB_REG['MODALIDADE_ENSINO_BOLSA'].astype(str)\n",
    "    \n",
    "    # ORDENANDO TABELA FINAL\n",
    "    ordem = ['ANO_CONCESSAO_BOLSA', 'COD_RACA', 'COD_MUNICIPIO', 'CODIGO_EMEC_IES_BOLSA', 'CPF_BENEFICIARIO_BOLSA', \n",
    "            'SEXO_BENEFICIARIO_BOLSA', 'NOME_CURSO_BOLSA', 'DT_NASCIMENTO_BENEFICIARIO', 'BENEFICIARIO_DEFICIENTE_FISICO', \n",
    "            'TIPO_BOLSA', 'MODALIDADE_ENSINO_BOLSA']\n",
    "    TAB_REG = TAB_REG[ordem]\n",
    "\n",
    "    return TAB_REG"
   ]
  },
  {
   "cell_type": "code",
   "execution_count": 29,
   "id": "39c595fa",
   "metadata": {},
   "outputs": [],
   "source": [
    "TAB = []\n",
    "for j in range(len(dados)-1):\n",
    "    t = formatacao_tabela(j)\n",
    "    TAB.append(t)"
   ]
  },
  {
   "cell_type": "markdown",
   "id": "0bac1b8c",
   "metadata": {},
   "source": [
    "<b>No ano de 2020 houve uma fuga no padrão de preenchimento das tabelas, portanto fez-se necessário realizar um processo de transformação independente.</b>"
   ]
  },
  {
   "cell_type": "code",
   "execution_count": 30,
   "id": "6b25e1cc",
   "metadata": {},
   "outputs": [],
   "source": [
    "    #CHAMANDO TABELA\n",
    "    TAB_REG15 = dados[15][['ANO_CONCESSAO_BOLSA', 'CODIGO_EMEC_IES_BOLSA', 'CPF_BENEFICIARIO', 'TIPO_BOLSA',\n",
    "                        'SEXO_BENEFICIARIO','BENEFICIARIO_DEFICIENTE_FISICO', 'DATA_NASCIMENTO',\n",
    "                       'MODALIDADE_ENSINO_BOLSA', 'NOME_CURSO_BOLSA']]\n",
    "\n",
    "    # GERANDO MAPAS IDENTIFICADORES\n",
    "    mapa_raca = {'Amarela':0, 'Branca':1, 'Indígena':2, 'Não Informada':3, 'Parda':4, 'Preta':5}\n",
    "    mapa_tipo =  {'BOLSA COMPLEMENTAR 25%':'25%', 'BOLSA INTEGRAL':'100%', 'BOLSA PARCIAL 50%':'50%',\n",
    "           'INTEGRAL':'100%', 'PARCIAL':'50%'}\n",
    "    mapa_pcd = {'N':0, 'NÃO':0, 'S':1, 'SIM':1}\n",
    "    mapa_modalidade = {'EAD':'EaD', 'EDUCAÇÃO A DISTÂNCIA':'EaD', 'PRESENCIAL':'Presencial', 'Presencial':'Presencial'}\n",
    "\n",
    "    mapa_local = TAB_LOCAL.DESC_MUNICIPIO.to_dict()\n",
    "    mapa_local = {v: k for k, v in mapa_local.items()}\n",
    "\n",
    "    \n",
    "    #FORMATANDO TABELA MUNICIPIO\n",
    "    mun_unidecode = []\n",
    "    for i in range(len(dados[15])):\n",
    "        t = unidecode(dados[15].MUNICIPIO_BENEFICIARIO.iloc[i].title())\n",
    "        mun_unidecode.append(t)\n",
    "        \n",
    "    TAB_REG15['COD_MUNICIPIO'] = mun_unidecode\n",
    "    TAB_REG15['COD_MUNICIPIO'] = TAB_REG15['COD_MUNICIPIO'].map(mapa_local)\n",
    "    #TAB_REG15.fillna({'COD_MUNICIPIO':5360}, inplace=True)\n",
    "    #TAB_REG15['COD_MUNICIPIO'] = TAB_REG15['COD_MUNICIPIO'].astype('int64')\n",
    "    \n",
    "    # FORMATANDO TABELA CPF\n",
    "    \n",
    "    cpf = []\n",
    "    for i in range(len(dados[15])):\n",
    "        t = dados[15].CPF_BENEFICIARIO[i][:3] + dados[15].CPF_BENEFICIARIO[i][-2:] \n",
    "        cpf.append(t)\n",
    "    TAB_REG15['CPF_BENEFICIARIO_BOLSA'] = cpf\n",
    "    \n",
    "    # ORGANIZANDO COLUNAS DA TABELA\n",
    "    TAB_REG15['COD_RACA'] = dados[15]['RACA_BENEFICIARIO'].map(mapa_raca, \n",
    "                                                                  na_action='ignore').convert_dtypes(convert_integer=True)\n",
    "    TAB_REG15['SEXO_BENEFICIARIO_BOLSA'] = dados[15].SEXO_BENEFICIARIO    \n",
    "    TAB_REG15['TIPO_BOLSA'] = TAB_REG15['TIPO_BOLSA'].map(mapa_tipo, na_action='ignore')\n",
    "    TAB_REG15['BENEFICIARIO_DEFICIENTE_FISICO']= TAB_REG15.BENEFICIARIO_DEFICIENTE_FISICO.map(mapa_pcd, na_action='ignore')\n",
    "    TAB_REG15['MODALIDADE_ENSINO_BOLSA']= TAB_REG15.MODALIDADE_ENSINO_BOLSA.map(mapa_modalidade, na_action='ignore')\n",
    "    TAB_REG15['NOME_CURSO_BOLSA'] = TAB_REG15.NOME_CURSO_BOLSA.str.title()\n",
    "    TAB_REG15['NOME_CURSO_BOLSA'] = TAB_REG15['NOME_CURSO_BOLSA'].fillna('Não Informado')\n",
    "    TAB_REG15['DT_NASCIMENTO_BENEFICIARIO'] = TAB_REG15['DATA_NASCIMENTO']\n",
    "    TAB_REG15['ANO_CONCESSAO_BOLSA'] = TAB_REG15['ANO_CONCESSAO_BOLSA'].astype('int64')\n",
    "    TAB_REG15['CODIGO_EMEC_IES_BOLSA'] = TAB_REG15['CODIGO_EMEC_IES_BOLSA'].astype('int64')\n",
    "\n",
    "    \n",
    "    ordem = ['ANO_CONCESSAO_BOLSA', 'COD_RACA', 'COD_MUNICIPIO', 'CODIGO_EMEC_IES_BOLSA', 'CPF_BENEFICIARIO_BOLSA', \n",
    "            'SEXO_BENEFICIARIO_BOLSA', 'NOME_CURSO_BOLSA', 'DT_NASCIMENTO_BENEFICIARIO', 'BENEFICIARIO_DEFICIENTE_FISICO', \n",
    "            'TIPO_BOLSA', 'MODALIDADE_ENSINO_BOLSA']\n",
    "    TAB_REG15 = TAB_REG15[ordem]\n"
   ]
  },
  {
   "cell_type": "code",
   "execution_count": 31,
   "id": "a1092f0f",
   "metadata": {},
   "outputs": [],
   "source": [
    "TAB.append(TAB_REG15)"
   ]
  },
  {
   "cell_type": "code",
   "execution_count": 32,
   "id": "ac275125",
   "metadata": {},
   "outputs": [],
   "source": [
    "for i in range(len(TAB)):\n",
    "    TAB[i].rename(columns={'CODIGO_EMEC_IES_BOLSA':'COD_EMEC_IES_BOLSA'}, inplace=True)"
   ]
  },
  {
   "cell_type": "code",
   "execution_count": 33,
   "id": "d6c12a89",
   "metadata": {},
   "outputs": [],
   "source": [
    "for i in range(len(TAB)):\n",
    "    if TAB[i].DT_NASCIMENTO_BENEFICIARIO[0][2] == '/':\n",
    "        TAB[i].DT_NASCIMENTO_BENEFICIARIO = TAB[i].DT_NASCIMENTO_BENEFICIARIO.apply(lambda x: datetime.strptime(x, '%d/%m/%Y'))\n",
    "    elif TAB[i].DT_NASCIMENTO_BENEFICIARIO[0][2] == '-':\n",
    "        TAB[i].DT_NASCIMENTO_BENEFICIARIO = TAB[i].DT_NASCIMENTO_BENEFICIARIO.apply(lambda x: datetime.strptime(x, '%d-%m-%Y'))"
   ]
  },
  {
   "cell_type": "markdown",
   "id": "b8a8e596",
   "metadata": {},
   "source": [
    "### Construindo coluna de Idades"
   ]
  },
  {
   "cell_type": "code",
   "execution_count": 34,
   "id": "346f7616",
   "metadata": {},
   "outputs": [],
   "source": [
    "for i in range(len(TAB)):\n",
    "    TAB[i]['IDADE'] = TAB[i].ANO_CONCESSAO_BOLSA - TAB[i].DT_NASCIMENTO_BENEFICIARIO.apply(lambda x: str(x)[:4]).astype(int)"
   ]
  },
  {
   "cell_type": "markdown",
   "id": "19f4d078",
   "metadata": {},
   "source": [
    "Retirando possíveis falhas de preenchimento com pouca representatividade amostral e outliers"
   ]
  },
  {
   "cell_type": "code",
   "execution_count": 35,
   "id": "257412cc",
   "metadata": {},
   "outputs": [],
   "source": [
    "for i in range(len(TAB)):\n",
    "    for j in range(len(TAB[i])):\n",
    "        if TAB[i].IDADE[j] < 15:\n",
    "            TAB[i].IDADE[j] = None\n",
    "        elif TAB[i].IDADE[j] > 115:\n",
    "            TAB[i].IDADE[j] = None"
   ]
  },
  {
   "cell_type": "code",
   "execution_count": 36,
   "id": "8a6a19a5",
   "metadata": {},
   "outputs": [
    {
     "data": {
      "text/html": [
       "<div>\n",
       "<style scoped>\n",
       "    .dataframe tbody tr th:only-of-type {\n",
       "        vertical-align: middle;\n",
       "    }\n",
       "\n",
       "    .dataframe tbody tr th {\n",
       "        vertical-align: top;\n",
       "    }\n",
       "\n",
       "    .dataframe thead th {\n",
       "        text-align: right;\n",
       "    }\n",
       "</style>\n",
       "<table border=\"1\" class=\"dataframe\">\n",
       "  <thead>\n",
       "    <tr style=\"text-align: right;\">\n",
       "      <th></th>\n",
       "      <th>ANO_CONCESSAO_BOLSA</th>\n",
       "      <th>COD_RACA</th>\n",
       "      <th>COD_MUNICIPIO</th>\n",
       "      <th>COD_EMEC_IES_BOLSA</th>\n",
       "      <th>CPF_BENEFICIARIO_BOLSA</th>\n",
       "      <th>SEXO_BENEFICIARIO_BOLSA</th>\n",
       "      <th>NOME_CURSO_BOLSA</th>\n",
       "      <th>DT_NASCIMENTO_BENEFICIARIO</th>\n",
       "      <th>BENEFICIARIO_DEFICIENTE_FISICO</th>\n",
       "      <th>TIPO_BOLSA</th>\n",
       "      <th>MODALIDADE_ENSINO_BOLSA</th>\n",
       "      <th>IDADE</th>\n",
       "    </tr>\n",
       "  </thead>\n",
       "  <tbody>\n",
       "    <tr>\n",
       "      <th>0</th>\n",
       "      <td>2005</td>\n",
       "      <td>1</td>\n",
       "      <td>0.0</td>\n",
       "      <td>423</td>\n",
       "      <td>264740</td>\n",
       "      <td>F</td>\n",
       "      <td>Enfermagem</td>\n",
       "      <td>1987-02-17 00:00:00</td>\n",
       "      <td>0</td>\n",
       "      <td>50%</td>\n",
       "      <td>Presencial</td>\n",
       "      <td>18.0</td>\n",
       "    </tr>\n",
       "    <tr>\n",
       "      <th>1</th>\n",
       "      <td>2005</td>\n",
       "      <td>4</td>\n",
       "      <td>1.0</td>\n",
       "      <td>423</td>\n",
       "      <td>976940</td>\n",
       "      <td>F</td>\n",
       "      <td>Serviço Social</td>\n",
       "      <td>1986-06-14 00:00:00</td>\n",
       "      <td>0</td>\n",
       "      <td>50%</td>\n",
       "      <td>Presencial</td>\n",
       "      <td>19.0</td>\n",
       "    </tr>\n",
       "    <tr>\n",
       "      <th>2</th>\n",
       "      <td>2005</td>\n",
       "      <td>4</td>\n",
       "      <td>1.0</td>\n",
       "      <td>423</td>\n",
       "      <td>045340</td>\n",
       "      <td>F</td>\n",
       "      <td>Serviço Social</td>\n",
       "      <td>1984-03-06 00:00:00</td>\n",
       "      <td>0</td>\n",
       "      <td>50%</td>\n",
       "      <td>Presencial</td>\n",
       "      <td>21.0</td>\n",
       "    </tr>\n",
       "  </tbody>\n",
       "</table>\n",
       "</div>"
      ],
      "text/plain": [
       "   ANO_CONCESSAO_BOLSA  COD_RACA  COD_MUNICIPIO  COD_EMEC_IES_BOLSA  \\\n",
       "0                 2005         1            0.0                 423   \n",
       "1                 2005         4            1.0                 423   \n",
       "2                 2005         4            1.0                 423   \n",
       "\n",
       "  CPF_BENEFICIARIO_BOLSA SEXO_BENEFICIARIO_BOLSA NOME_CURSO_BOLSA  \\\n",
       "0                 264740                       F       Enfermagem   \n",
       "1                 976940                       F   Serviço Social   \n",
       "2                 045340                       F   Serviço Social   \n",
       "\n",
       "  DT_NASCIMENTO_BENEFICIARIO  BENEFICIARIO_DEFICIENTE_FISICO TIPO_BOLSA  \\\n",
       "0        1987-02-17 00:00:00                               0        50%   \n",
       "1        1986-06-14 00:00:00                               0        50%   \n",
       "2        1984-03-06 00:00:00                               0        50%   \n",
       "\n",
       "  MODALIDADE_ENSINO_BOLSA  IDADE  \n",
       "0              Presencial   18.0  \n",
       "1              Presencial   19.0  \n",
       "2              Presencial   21.0  "
      ]
     },
     "execution_count": 36,
     "metadata": {},
     "output_type": "execute_result"
    }
   ],
   "source": [
    "TAB[0].head(3)"
   ]
  },
  {
   "cell_type": "markdown",
   "id": "1c1d7935",
   "metadata": {},
   "source": [
    "***"
   ]
  },
  {
   "cell_type": "markdown",
   "id": "71a0f351",
   "metadata": {},
   "source": [
    "***"
   ]
  },
  {
   "cell_type": "markdown",
   "id": "0e0760c4",
   "metadata": {},
   "source": [
    "# <font color=#257C53 size=5> 5 PROCESSO DE ETL: CARGA </font>\n",
    "***"
   ]
  },
  {
   "cell_type": "markdown",
   "id": "1107ef97",
   "metadata": {},
   "source": [
    "## Conexão com o SQL Server"
   ]
  },
  {
   "cell_type": "code",
   "execution_count": 36,
   "id": "de63dc85",
   "metadata": {},
   "outputs": [],
   "source": [
    "from sqlalchemy import create_engine\n",
    "from sqlalchemy.ext.declarative import declarative_base\n",
    "from sqlalchemy import Column, String, Integer\n",
    "from sqlalchemy.orm import sessionmaker"
   ]
  },
  {
   "cell_type": "code",
   "execution_count": 37,
   "id": "0307751a",
   "metadata": {},
   "outputs": [],
   "source": [
    "server = 'DESKTOP-VASG2SS'\n",
    "database = 'DADOS_PROUNI'\n",
    "driver = 'SQL Server Native Client 11.0'\n",
    "username = ''\n",
    "password = ''\n",
    "database_connection = f'mssql://{username}:{password}@{server}/{database}?driver={driver}'"
   ]
  },
  {
   "cell_type": "code",
   "execution_count": 38,
   "id": "92b4dfbf",
   "metadata": {},
   "outputs": [],
   "source": [
    "engine = create_engine(database_connection)"
   ]
  },
  {
   "cell_type": "code",
   "execution_count": 39,
   "id": "4d45527e",
   "metadata": {},
   "outputs": [],
   "source": [
    "conn = engine.connect()"
   ]
  },
  {
   "cell_type": "markdown",
   "id": "a59ac8a8",
   "metadata": {},
   "source": [
    "***"
   ]
  },
  {
   "cell_type": "markdown",
   "id": "d1951a7e",
   "metadata": {},
   "source": [
    "## Carga das tabelas"
   ]
  },
  {
   "cell_type": "code",
   "execution_count": 40,
   "id": "302f4707",
   "metadata": {},
   "outputs": [],
   "source": [
    "TAB_RACA.to_sql('TAB_RACA', engine, if_exists='append')"
   ]
  },
  {
   "cell_type": "code",
   "execution_count": 41,
   "id": "a5e9c137",
   "metadata": {},
   "outputs": [],
   "source": [
    "TAB_LOCAL.to_sql('TAB_LOCAL', engine, if_exists='append')"
   ]
  },
  {
   "cell_type": "code",
   "execution_count": 42,
   "id": "be6e1c3f",
   "metadata": {},
   "outputs": [],
   "source": [
    "TAB_IES.to_sql('TAB_IES', engine, if_exists='append')"
   ]
  },
  {
   "cell_type": "code",
   "execution_count": 43,
   "id": "15b38113",
   "metadata": {
    "scrolled": false
   },
   "outputs": [
    {
     "name": "stdout",
     "output_type": "stream",
     "text": [
      "Carga da tabela 2005 finalizada.\n",
      "Carga da tabela 2006 finalizada.\n",
      "Carga da tabela 2007 finalizada.\n",
      "Carga da tabela 2008 finalizada.\n",
      "Carga da tabela 2009 finalizada.\n",
      "Carga da tabela 2010 finalizada.\n",
      "Carga da tabela 2011 finalizada.\n",
      "Carga da tabela 2012 finalizada.\n",
      "Carga da tabela 2013 finalizada.\n",
      "Carga da tabela 2014 finalizada.\n",
      "Carga da tabela 2015 finalizada.\n",
      "Carga da tabela 2016 finalizada.\n",
      "Carga da tabela 2017 finalizada.\n",
      "Carga da tabela 2018 finalizada.\n",
      "Carga da tabela 2019 finalizada.\n",
      "Carga da tabela 2020 finalizada.\n"
     ]
    }
   ],
   "source": [
    "for i in range(len(TAB)):\n",
    "    TAB[i].to_sql('TAB_REGISTRO', engine, if_exists='append', index=False)\n",
    "    print(f'Carga da tabela {TAB[i].iloc[1][0]} finalizada.')"
   ]
  },
  {
   "cell_type": "code",
   "execution_count": 44,
   "id": "c6655931",
   "metadata": {},
   "outputs": [],
   "source": [
    "conn.close()"
   ]
  }
 ],
 "metadata": {
  "kernelspec": {
   "display_name": "Python 3 (ipykernel)",
   "language": "python",
   "name": "python3"
  },
  "language_info": {
   "codemirror_mode": {
    "name": "ipython",
    "version": 3
   },
   "file_extension": ".py",
   "mimetype": "text/x-python",
   "name": "python",
   "nbconvert_exporter": "python",
   "pygments_lexer": "ipython3",
   "version": "3.9.7"
  }
 },
 "nbformat": 4,
 "nbformat_minor": 5
}
